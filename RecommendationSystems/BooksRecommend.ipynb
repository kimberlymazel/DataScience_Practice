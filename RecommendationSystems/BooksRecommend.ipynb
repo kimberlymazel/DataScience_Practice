{
 "cells": [
  {
   "attachments": {},
   "cell_type": "markdown",
   "metadata": {},
   "source": [
    "# Recommendation System for Books based on Ratings\n",
    "Dataset can be accessed from: https://www.kaggle.com/datasets/ruchi798/bookcrossing-dataset"
   ]
  },
  {
   "cell_type": "code",
   "execution_count": null,
   "metadata": {},
   "outputs": [],
   "source": [
    "# Importing libraries\n",
    "import pandas as pd\n",
    "from math import sqrt\n",
    "import numpy as np"
   ]
  },
  {
   "cell_type": "code",
   "execution_count": null,
   "metadata": {},
   "outputs": [],
   "source": [
    "# Accessing the dataset using pandas\n",
    "books_df = pd.read_csv('BX_Books.csv')\n",
    "ratings_df = pdf.read_csv('BX_Book-Ratings.csv')"
   ]
  }
 ],
 "metadata": {
  "language_info": {
   "name": "python"
  },
  "orig_nbformat": 4
 },
 "nbformat": 4,
 "nbformat_minor": 2
}
